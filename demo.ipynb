{
 "cells": [
  {
   "cell_type": "markdown",
   "metadata": {},
   "source": [
    "Importando as bibliotecas"
   ]
  },
  {
   "cell_type": "code",
   "execution_count": null,
   "metadata": {},
   "outputs": [],
   "source": [
    "import random\n",
    "import requests\n",
    "from collections import Counter\n",
    "from math import log2"
   ]
  },
  {
   "cell_type": "markdown",
   "metadata": {},
   "source": [
    "Inicializando o jogo da forca"
   ]
  },
  {
   "cell_type": "code",
   "execution_count": null,
   "metadata": {},
   "outputs": [],
   "source": [
    "class JogoDeForca:\n",
    "    def __init__(self):\n",
    "        url = 'https://www.ime.usp.br/~pf/dicios/br-sem-acentos.txt'\n",
    "        r = requests.get(url, allow_redirects=True)\n",
    "        if r.status_code==200:\n",
    "            self.content = str(r.content.decode()).split('\\n')\n",
    "        else:\n",
    "            print(\"Erro: \", r.status_code)\n",
    "\n",
    "    def novo_jogo(self, vidas=5):\n",
    "        self.vidas = vidas\n",
    "        self.palavra = random.choice(self.content)\n",
    "        return len(self.palavra)\n",
    "\n",
    "    def tentar_letra(self, letra):\n",
    "        if self.vidas > 0:\n",
    "            if letra in self.palavra:\n",
    "                return [idx for idx in range(len(self.palavra)) if self.palavra[idx]==letra]\n",
    "            else:\n",
    "                self.vidas -= 1\n",
    "                if self.vidas == 0:\n",
    "                    print(\"Fim de jogo!\")\n",
    "                    return False\n",
    "                else:\n",
    "                    return []\n",
    "        \n",
    "    def tentar_palavra(self, palavra):\n",
    "        if self.vidas > 0:\n",
    "            if self.palavra == palavra:\n",
    "                print (\"Ganhou!\")\n",
    "                return True\n",
    "            else:\n",
    "                self.vidas = 0\n",
    "                print(\"Fim de jogo!\")\n",
    "                return False"
   ]
  },
  {
   "cell_type": "markdown",
   "metadata": {},
   "source": [
    "Criar Jogador automático "
   ]
  },
  {
   "cell_type": "code",
   "execution_count": null,
   "metadata": {},
   "outputs": [],
   "source": [
    "class JogadorAutomatico:\n",
    "    def __init__(self):\n",
    "        url = 'https://www.ime.usp.br/~pf/dicios/br-sem-acentos.txt'\n",
    "        r = requests.get(url, allow_redirects=True)\n",
    "        if r.status_code == 200:\n",
    "            self.vocabulario = str(r.content.decode()).split('\\n')\n",
    "        else:\n",
    "            raise Exception(\"Erro ao carregar o vocabulário\")\n",
    "\n",
    "    def calcular_frequencias(self, palavras):\n",
    "        letras = Counter(\"\".join(palavras))\n",
    "        total = sum(letras.values())\n",
    "        return {letra: count / total for letra, count in letras.items()}\n",
    "\n",
    "    def calcular_entropia(self, palavras, letra):\n",
    "        total = len(palavras)\n",
    "        if total == 0:\n",
    "            return 0\n",
    "        contem_letra = sum([1 for palavra in palavras if letra in palavra])\n",
    "        p_contem = contem_letra / total\n",
    "        p_nao_contem = 1 - p_contem\n",
    "        entropia = 0\n",
    "        if p_contem > 0:\n",
    "            entropia -= p_contem * log2(p_contem)\n",
    "        if p_nao_contem > 0:\n",
    "            entropia -= p_nao_contem * log2(p_nao_contem)\n",
    "        return entropia\n",
    "\n",
    "    def escolher_proxima_letra(self, palavras_candidatas, letras_escolhidas):\n",
    "        frequencias = self.calcular_frequencias(palavras_candidatas)\n",
    "        letras_validas = [letra for letra in frequencias if letra not in letras_escolhidas]\n",
    "        entropias = {letra: self.calcular_entropia(palavras_candidatas, letra) for letra in letras_validas}\n",
    "        return max(entropias, key=entropias.get)"
   ]
  }
 ],
 "metadata": {
  "kernelspec": {
   "display_name": "alglin",
   "language": "python",
   "name": "python3"
  },
  "language_info": {
   "name": "python",
   "version": "3.10.14"
  }
 },
 "nbformat": 4,
 "nbformat_minor": 2
}
